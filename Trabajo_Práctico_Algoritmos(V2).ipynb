{
 "cells": [
  {
   "cell_type": "markdown",
   "metadata": {
    "colab_type": "text",
    "id": "view-in-github"
   },
   "source": [
    "<a href=\"https://colab.research.google.com/github/adrianperezp/Alg_Opt/blob/master/Trabajo_Pr%C3%A1ctico_Algoritmos(V2).ipynb\" target=\"_parent\"><img src=\"https://colab.research.google.com/assets/colab-badge.svg\" alt=\"Open In Colab\"/></a>"
   ]
  },
  {
   "cell_type": "markdown",
   "metadata": {
    "id": "hVbXYX-RfPWh"
   },
   "source": [
    "# Algoritmos de optimización - Trabajo Práctico<br>\n",
    "Nombre y Apellidos: Adrián Pérez Portero  <br>\n",
    "Url: https://github.com/adrianperezp/Alg_Opt/blob/master/Trabajo_Pr%C3%A1ctico_Algoritmos(V2).ipynb<br>\n",
    "Google Colab: https://colab.research.google.com/drive/1Z15NISSv3BQ5-jcYVqIcZEfpeDiMMQms?usp=sharing <br>\n",
    "Problema:\n",
    ">1. Sesiones de doblaje <br>\n",
    "\n",
    "Descripción del problema:                                       "
   ]
  },
  {
   "attachments": {},
   "cell_type": "markdown",
   "metadata": {},
   "source": [
    "Se precisa coordinar el doblaje de una película. Los actores del doblaje deben coincidir en las\n",
    "tomas en las que sus personajes aparecen juntos en las diferentes tomas. Los actores de\n",
    "doblaje cobran todos la misma cantidad por cada día que deben desplazarse hasta el estudio de\n",
    "grabación independientemente del número de tomas que se graben. No es posible grabar más\n",
    "de 6 tomas por día. El objetivo es planificar las sesiones por día de manera que el gasto por los\n",
    "servicios de los actores de doblaje sea el menor posible. Los datos son:\n",
    "\n"
   ]
  },
  {
   "cell_type": "markdown",
   "metadata": {
    "id": "Sbo9IqQtpaHZ"
   },
   "source": [
    "# Modelo\n",
    "- ¿Como represento el espacio de soluciones?\n",
    "\n",
    "Se consideran todas las posibles combinaciones de tomas para cada día. Cada solución es una lista de listas, donde cada lista interna representa las tomas asignadas para un día específico. El objetivo es encontrar la mejor combinación de estas listas de tomas para minimizar el coste de grabación de todas las tomas, definido como el número total de actores activos en todas las tomas.\n",
    "\n",
    "- ¿Cual es la función objetivo?\n",
    "\n",
    "calcular_coste(solucion)\n",
    "\n",
    "Consiste en minimizar el coste total, que se logra al maximizar la eficiencia en la asignación de tomas de manera que se involucre al menor número posible de actores.\n",
    "\n",
    "- ¿Como implemento las restricciones?\n",
    "1) Número máximo de tomas por día\n",
    "\n",
    "Se crea la variable 'max_tomas_dia' para establecer la restricción de que no pueden grabarse más de 6 tomas al día.\n",
    "\n",
    "2) Disponibilidad de actores\n",
    "\n",
    "Se crea la matriz tomas que representa la disponibilidad de actores para cada toma. Las filas representan las tomas y las columnas los actores de doblaje marcados con 1 cuando son requeridos en la toma o 0 si no.\n",
    "\n",
    "Para la selección aleatoria de la toma, se verifica que haya actores disponibles para esa toma.\n",
    "\n",
    "3) Única asignación de tomas\n",
    "\n",
    "La matriz tomas se va reduciendo a medida que van siendo seleccionadas:\n",
    "\n",
    "tomas_aux.pop(pos)\n"
   ]
  },
  {
   "cell_type": "code",
   "execution_count": 1,
   "metadata": {
    "id": "AiskKkzZfy4e"
   },
   "outputs": [],
   "source": [
    "#Respuesta\n",
    "\n",
    "import pulp\n",
    "import numpy as np\n",
    "import random\n",
    "\n",
    "# Espacio de soluciones\n",
    "max_tomas_dia = 6\n",
    "solucion = []\n",
    "mejor_solucion = []\n",
    "tomas_dia = []\n",
    "mejor_coste = 100000\n",
    "max_iteraciones = 100000\n",
    "\n",
    "tomas = [\n",
    "    [1, 1, 1, 1, 1, 0, 0, 0, 0, 0, 5],\n",
    "    [0, 0, 1, 1, 1, 0, 0, 0, 0, 0, 3],\n",
    "    [0, 1, 0, 0, 1, 0, 1, 0, 0, 0, 3],\n",
    "    [1, 1, 0, 0, 0, 0, 1, 1, 0, 0, 4],\n",
    "    [0, 1, 0, 1, 0, 0, 0, 1, 0, 0, 3],\n",
    "    [1, 1, 0, 1, 1, 0, 0, 0, 0, 0, 4],\n",
    "    [1, 1, 0, 1, 1, 0, 0, 0, 0, 0, 4],\n",
    "    [1, 1, 0, 0, 0, 1, 0, 0, 0, 0, 3],\n",
    "    [1, 1, 0, 1, 0, 0, 0, 0, 0, 0, 3],\n",
    "    [1, 1, 0, 0, 0, 1, 0, 0, 1, 0, 4],\n",
    "    [1, 1, 1, 0, 1, 0, 0, 1, 0, 0, 5],\n",
    "    [1, 1, 1, 1, 0, 1, 0, 0, 0, 0, 5],\n",
    "    [1, 0, 0, 1, 1, 0, 0, 0, 0, 0, 3],\n",
    "    [1, 0, 1, 0, 0, 1, 0, 0, 0, 0, 3],\n",
    "    [1, 1, 0, 0, 0, 0, 1, 0, 0, 0, 3],\n",
    "    [0, 0, 0, 1, 0, 0, 0, 0, 0, 1, 2],\n",
    "    [1, 0, 1, 0, 0, 0, 0, 0, 0, 0, 2],\n",
    "    [0, 0, 1, 0, 0, 1, 0, 0, 0, 0, 2],\n",
    "    [1, 0, 1, 0, 0, 0, 0, 0, 0, 0, 2],\n",
    "    [1, 0, 1, 1, 1, 0, 0, 0, 0, 0, 4],\n",
    "    [0, 0, 0, 0, 0, 1, 0, 1, 0, 0, 2],\n",
    "    [1, 1, 1, 1, 0, 0, 0, 0, 0, 0, 4],\n",
    "    [1, 0, 1, 0, 0, 0, 0, 0, 0, 0, 2],\n",
    "    [0, 0, 1, 0, 0, 1, 0, 0, 0, 0, 2],\n",
    "    [1, 1, 0, 1, 0, 0, 0, 0, 0, 1, 4],\n",
    "    [1, 0, 1, 0, 1, 0, 0, 0, 1, 0, 4],\n",
    "    [0, 0, 0, 1, 1, 0, 0, 0, 0, 0, 2],\n",
    "    [1, 0, 0, 1, 0, 0, 0, 0, 0, 0, 2],\n",
    "    [1, 0, 0, 0, 1, 1, 0, 0, 0, 0, 3],\n",
    "    [1, 0, 0, 1, 0, 0, 0, 0, 0, 0, 2]\n",
    "]"
   ]
  },
  {
   "cell_type": "code",
   "execution_count": 23,
   "metadata": {},
   "outputs": [],
   "source": [
    "def numero_filas_activas(matriz):\n",
    "    activadas = np.zeros(len(matriz[0]))\n",
    "\n",
    "    for fila in matriz:\n",
    "        for j, valor in enumerate(fila):\n",
    "            if valor == 1:\n",
    "                activadas[j] = 1\n",
    "\n",
    "    total_activadas = int(np.sum(activadas))\n",
    "    \n",
    "    return total_activadas\n",
    "\n",
    "def pos_toma_aleatoria(tomas):\n",
    "    if not tomas:\n",
    "        return None  # Devuelve None si la matriz está vacía\n",
    "    indice_fila_aleatoria = random.randint(0, len(tomas) - 1)\n",
    "    return indice_fila_aleatoria\n",
    "\n",
    "def calcular_coste(solucion):\n",
    "    coste = 0\n",
    "    \n",
    "    for tomas_dia in solucion:\n",
    "        coste += numero_filas_activas(tomas_dia)\n",
    "        \n",
    "    return coste"
   ]
  },
  {
   "cell_type": "code",
   "execution_count": 24,
   "metadata": {
    "scrolled": true
   },
   "outputs": [
    {
     "name": "stdout",
     "output_type": "stream",
     "text": [
      "Mejor coste:  32\n"
     ]
    }
   ],
   "source": [
    "\n",
    "for it in range(max_iteraciones):\n",
    "    tomas_aux = tomas.copy()\n",
    "    while(len(tomas_aux) > 0):\n",
    "\n",
    "        i = 0\n",
    "        while(i < max_tomas_dia and len(tomas_aux) > 0):\n",
    "            pos = pos_toma_aleatoria(tomas_aux)\n",
    "            tomas_dia.append(tomas_aux[pos])\n",
    "            tomas_aux.pop(pos)\n",
    "            i += 1\n",
    "        \n",
    "        # Agregamos a solucion\n",
    "        solucion.append(tomas_dia)\n",
    "        tomas_dia = []\n",
    "    \n",
    "    coste = calcular_coste(solucion)\n",
    "    \n",
    "    if coste < mejor_coste:\n",
    "        mejor_coste = coste\n",
    "        mejor_solucion = solucion.copy()\n",
    "    \n",
    "    solucion = []\n",
    "\n",
    "print('Mejor coste: ', str(mejor_coste))"
   ]
  },
  {
   "attachments": {
    "imagen.png": {
     "image/png": "[encoded data removed]"
    }
   },
   "cell_type": "markdown",
   "metadata": {
    "id": "HZz52wOppp-U"
   },
   "source": [
    "# Análisis\n",
    "- ¿Que complejidad tiene el problema?. Orden de complejidad y Contabilizar el espacio de soluciones\n",
    "\n",
    "La función calcular_coste(solucion) tiene un coste:\n",
    "\n",
    "<b>O(d x t x a)</b>, donde\n",
    "\n",
    "d = días de grabación de la solución\n",
    "\n",
    "t = nº de filas (tomas) en la matriz de datos\n",
    "\n",
    "a = nº de columnas (actores) en la matriz de datos\n",
    "\n",
    "El coste total es\n",
    "\n",
    "<b>O(i x t²x td x d x a)</b>, donde\n",
    "\n",
    "i = máximo de iteraciones establecido\n",
    "\n",
    "t = ya descrito\n",
    "\n",
    "td = max_tomas_dia\n",
    "\n",
    "d = ya descrito\n",
    "\n",
    "a = ya descrito\n",
    "\n",
    "![imagen.png](attachment:imagen.png)\n",
    "\n",
    "donde cada término representa el número de combinaciones posibles para un día específico y d - 1 hace referencia a todos los días\n"
   ]
  },
  {
   "cell_type": "markdown",
   "metadata": {
    "id": "CZ-5BmpspttV"
   },
   "source": [
    "### Respuesta\n"
   ]
  },
  {
   "cell_type": "markdown",
   "metadata": {
    "id": "ixEJUwH_pv7M"
   },
   "source": [
    "# Diseño\n",
    "- ¿Que técnica utilizo? ¿Por qué?"
   ]
  },
  {
   "cell_type": "markdown",
   "metadata": {
    "id": "ZdKPjB9gp2BA"
   },
   "source": [
    "### Respuesta\n",
    "\n",
    "Se ha utilizado la técnica de búsqueda local, ya que el espacio de búsqueda es grande y no se dispone de \n",
    "información que permita realizar una búsqueda exhaustiva en un tiempo razonable.\n",
    "\n",
    "En este caso, el espacio de soluciones es el conjunto de todas las posibles asignaciones de tomas para cada día, \n",
    "lo que resulta en un espacio de búsqueda de alta dimensionalidad debido a la combinación de diferentes tomas para \n",
    "múltiples días. Además, el número de combinaciones posibles puede ser muy grande, lo que hace que una búsqueda \n",
    "exhaustiva sea computacionalmente costosa y poco práctica.\n",
    "\n",
    "La técnica de búsqueda local, en contraste, es adecuada para problemas donde se tiene un espacio de búsqueda \n",
    "grande y no se dispone de una función de evaluación global. En lugar de intentar explorar todo el espacio de \n",
    "búsqueda, la búsqueda local busca iterativamente mejorar una solución inicial a través de movimientos locales, \n",
    "evaluando la vecindad de una solución en lugar de todo el espacio de búsqueda. Esto permite una exploración más \n",
    "eficiente del espacio de soluciones y puede conducir a soluciones aceptables en un tiempo razonable.\n",
    "\n",
    "Dado que el objetivo en este problema es encontrar una asignación óptima de tomas para minimizar el número total \n",
    "de actores activos, la técnica de búsqueda local se adapta bien, ya que puede explorar de manera eficiente las \n",
    "diferentes combinaciones de tomas y evaluar su costo, buscando iterativamente mejorar la solución actual."
   ]
  }
 ],
 "metadata": {
  "colab": {
   "include_colab_link": true,
   "provenance": []
  },
  "kernelspec": {
   "display_name": "Python 3 (ipykernel)",
   "language": "python",
   "name": "python3"
  },
  "language_info": {
   "codemirror_mode": {
    "name": "ipython",
    "version": 3
   },
   "file_extension": ".py",
   "mimetype": "text/x-python",
   "name": "python",
   "nbconvert_exporter": "python",
   "pygments_lexer": "ipython3",
   "version": "3.10.12"
  }
 },
 "nbformat": 4,
 "nbformat_minor": 1
}
