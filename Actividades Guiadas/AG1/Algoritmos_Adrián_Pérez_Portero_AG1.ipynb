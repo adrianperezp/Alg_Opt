{
 "cells": [
  {
   "cell_type": "markdown",
   "metadata": {
    "id": "xc0urjKzWFQO"
   },
   "source": [
    "# Actividad Guiada 1 de Algoritmos de Optimización\n",
    "Adrián Pérez Portero\n",
    "\n",
    "https://colab.research.google.com/drive/1y-qe7pE_w6A3U2CtoeJngX6rqGTcRb8a?usp=sharing\n",
    "\n",
    "https://github.com/adrianperezp/Alg_Opt/tree/master/Actividades%20Guiadas/AG1"
   ]
  },
  {
   "cell_type": "code",
   "execution_count": 4,
   "metadata": {
    "colab": {
     "base_uri": "https://localhost:8080/"
    },
    "id": "6EjBPtgLVUH2",
    "outputId": "fb5cf393-aef1-415a-acf4-d7f53d7c3ca2"
   },
   "outputs": [
    {
     "name": "stdout",
     "output_type": "stream",
     "text": [
      "Llevar desde 1 hasta 2\n",
      "Llevar desde 1 hasta 3\n",
      "Llevar desde 2 hasta 3\n",
      "Llevar desde 1 hasta 2\n",
      "Llevar desde 3 hasta 1\n",
      "Llevar desde 3 hasta 2\n",
      "Llevar desde 1 hasta 2\n",
      "Llevar desde 1 hasta 3\n",
      "Llevar desde 2 hasta 3\n",
      "Llevar desde 2 hasta 1\n",
      "Llevar desde 3 hasta 1\n",
      "Llevar desde 2 hasta 3\n",
      "Llevar desde 1 hasta 2\n",
      "Llevar desde 1 hasta 3\n",
      "Llevar desde 2 hasta 3\n"
     ]
    }
   ],
   "source": [
    "# Torres de Hanoi\n",
    "\n",
    "def torres_hanoy(N, desde, hasta):\n",
    "  if N == 1:\n",
    "    print(\"Llevar desde \" + str(desde) + \" hasta \" + str(hasta))\n",
    "  else:\n",
    "    torres_hanoy(N-1, desde, 6 - desde - hasta)\n",
    "    print(\"Llevar desde \" + str(desde) + \" hasta \" + str(hasta))\n",
    "    torres_hanoy(N-1, 6 - desde - hasta, hasta)\n",
    "\n",
    "torres_hanoy(4, 1, 3)"
   ]
  },
  {
   "cell_type": "code",
   "execution_count": 9,
   "metadata": {
    "colab": {
     "base_uri": "https://localhost:8080/"
    },
    "id": "ru8oXbhVa5g3",
    "outputId": "5b37ba82-6337-4b5e-9d42-54e8ba0392fd"
   },
   "outputs": [
    {
     "name": "stdout",
     "output_type": "stream",
     "text": [
      "SISTEMA:\n",
      "[25, 10, 5, 1]\n"
     ]
    },
    {
     "data": {
      "text/plain": [
       "[1, 0, 0, 2]"
      ]
     },
     "execution_count": 9,
     "metadata": {},
     "output_type": "execute_result"
    }
   ],
   "source": [
    "# Cambio de monedas\n",
    "\n",
    "def cambio_monedas(CANTIDAD, SISTEMA):\n",
    "  print(\"SISTEMA:\")\n",
    "  print(SISTEMA)\n",
    "\n",
    "  SOLUCION = [0 for i in range(len(SISTEMA))]\n",
    "  VALOR_ACUMULADO = 0\n",
    "\n",
    "  for i in range(len(SISTEMA)):\n",
    "    monedas = int((CANTIDAD - VALOR_ACUMULADO) / SISTEMA[i])\n",
    "    SOLUCION[i] =  monedas\n",
    "    VALOR_ACUMULADO += monedas * SISTEMA[i]\n",
    "    if VALOR_ACUMULADO == CANTIDAD: return SOLUCION\n",
    "\n",
    "  return SOLUCION\n",
    "\n",
    "SISTEMA = [25, 10, 5, 1]\n",
    "cambio_monedas(27, SISTEMA)"
   ]
  },
  {
   "cell_type": "code",
   "execution_count": 2,
   "metadata": {
    "id": "CjBeo63jdury"
   },
   "outputs": [],
   "source": [
    "# Proceso principal de N-Reinas\n",
    "def reinas(N, solucion = [], etapa = 0):\n",
    "    #N         - Tamaño del tablero\n",
    "    # solucion - Solucion parcial\n",
    "    # etapa    - nº de reinas colocadas en la solución parcial\n",
    "  \n",
    "    # Inicializa la solución: una lista con ceros\n",
    "    if len(solucion) == 0:\n",
    "        solucion = [0 for i in range(N)]\n",
    "\n",
    "    # Recorremos todas las reinas\n",
    "    for i in range(1, N + 1):\n",
    "        solucion[etapa] = i\n",
    "\n",
    "        #print(solucion)\n",
    "        if es_prometedora(solucion, etapa):\n",
    "            if etapa == N - 1:\n",
    "                print(\"\\n\\nLa solución es:\")\n",
    "                print(solucion)\n",
    "                escribe_solucion(solucion)\n",
    "            else:\n",
    "                #print(\"Es prometedora\\n###############\")\n",
    "                reinas(N, solucion, etapa + 1)\n",
    "        else:\n",
    "          #print(\"NO PROMETEDORA\\n###############\")\n",
    "          None\n",
    "\n",
    "        solucion[etapa] = 0\n",
    "\n",
    "def es_prometedora(SOLUCION, etapa):\n",
    "    #print(SOLUCION)\n",
    "    # Si la solución tiene dos valores iguales no es válida => Dos reinas en la misma fila\n",
    "    for i in range(etapa + 1):\n",
    "        #print(\"El valor \" + str(SOLUCION[i]) + \" está \" + str(SOLUCION.count(SOLUCION[i])) + \" veces\")\n",
    "        if SOLUCION.count(SOLUCION[i]) > 1:       return False\n",
    "\n",
    "        # Verifica las diagonales\n",
    "        for j in range(i + 1, etapa + 1):\n",
    "            #print(\"Comprobando diagonal de \" + str(i) + \" y \" + str(j))\n",
    "            if abs(i - j) == abs(SOLUCION[i] - SOLUCION[j]): return False\n",
    "    return True"
   ]
  },
  {
   "cell_type": "code",
   "execution_count": 4,
   "metadata": {},
   "outputs": [
    {
     "name": "stdout",
     "output_type": "stream",
     "text": [
      "\n",
      "La ruta es:\n"
     ]
    },
    {
     "data": {
      "text/plain": [
       "'0025'"
      ]
     },
     "execution_count": 4,
     "metadata": {},
     "output_type": "execute_result"
    }
   ],
   "source": [
    "# Viaje por el río - Programación dinámica\n",
    "#####################################################################\n",
    "\n",
    "TARIFAS = [\n",
    "    [0, 5, 3, 999, 999, 999],\n",
    "    [999, 0, 999, 2, 3, 999, 11],\n",
    "    [999, 999, 0, 1, 999, 4, 10],\n",
    "    [999, 999, 999, 0, 5, 6, 9],\n",
    "    [999, 999, 999, 999, 0, 999, 4],\n",
    "    [999, 999, 999, 999, 999, 0, 3],\n",
    "    [999, 999, 999, 999, 999, 999, 0]\n",
    "]\n",
    "\n",
    "# 999 se puede sustituir por float (\"inf\")\n",
    "\n",
    "####################################################################\n",
    "def Precios(TARIFAS):\n",
    "    # Total de Nodos\n",
    "    N = len(TARIFAS[0])\n",
    "    \n",
    "    # Inicialización de la tabla de precios\n",
    "    PRECIOS = [[9999] * N for i in [9999] * N]\n",
    "    RUTA = [[\"\"] * N for i in [\"\"] * N]\n",
    "    \n",
    "    for i in range(N - 1):\n",
    "        for j in range(i + 1, N):\n",
    "            MIN = TARIFAS[i][j]\n",
    "            RUTA[i][j] = i\n",
    "            \n",
    "            for k in range(i, j):\n",
    "                if PRECIOS[i][k] + TARIFAS[k][j] < MIN:\n",
    "                    MIN = min(MIN, PRECIOS[i][k] + TARIFAS[k][j])\n",
    "                    RUTA[i][j] = k\n",
    "                PRECIOS[i][j] = MIN\n",
    "    return PRECIOS, RUTA\n",
    "\n",
    "def calcular_ruta(RUTA, desde, hasta):\n",
    "    if desde == hasta:\n",
    "        #print(\"Ir a: \" + str(desde))\n",
    "        return desde\n",
    "    else:\n",
    "        return str(calcular_ruta(RUTA, desde, RUTA[desde][hasta])) + str(RUTA[desde][hasta])\n",
    "    \n",
    "RUTA = [\n",
    "    ['', 0, 0, 0, 1, 2, 5],\n",
    "    ['', '', 1, 1, 1, 3, 4],\n",
    "    ['', '', '', 2, 3, 2, 5],\n",
    "    ['', '', '', '', 3, 3, 3],\n",
    "    ['', '', '', '', '', 4, 4],\n",
    "    ['', '', '', '', '', '', 5],\n",
    "    ['', '', '', '', '', '', '']\n",
    "]\n",
    "print(\"\\nLa ruta es:\")    \n",
    "calcular_ruta(RUTA, 0, 6)"
   ]
  }
 ],
 "metadata": {
  "colab": {
   "provenance": []
  },
  "kernelspec": {
   "display_name": "Python 3 (ipykernel)",
   "language": "python",
   "name": "python3"
  },
  "language_info": {
   "codemirror_mode": {
    "name": "ipython",
    "version": 3
   },
   "file_extension": ".py",
   "mimetype": "text/x-python",
   "name": "python",
   "nbconvert_exporter": "python",
   "pygments_lexer": "ipython3",
   "version": "3.11.6"
  }
 },
 "nbformat": 4,
 "nbformat_minor": 1
}
